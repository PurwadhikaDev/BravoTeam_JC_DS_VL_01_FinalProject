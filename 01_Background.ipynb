{
  "cells": [
    {
      "cell_type": "markdown",
      "metadata": {
        "id": "4SAlvDJ1QmEX"
      },
      "source": [
        "# Final Project: HR Analysis"
      ]
    },
    {
      "cell_type": "markdown",
      "metadata": {
        "id": "CA91EwPaQkHU"
      },
      "source": [
        "by Purwadhika JCDS 2021 - Bravo Team\n",
        "\n",
        "* Albert Brian\n",
        "* Deris Triana Noor\n",
        "\n",
        "Dataset: aug_train.csv\n",
        "\n",
        "Source: https://www.kaggle.com/arashnic/hr-analytics-job-change-of-data-scientists"
      ]
    },
    {
      "cell_type": "markdown",
      "metadata": {
        "id": "c0SEqD8NT4LY"
      },
      "source": [
        "# Background"
      ]
    },
    {
      "cell_type": "markdown",
      "metadata": {
        "id": "Wsid2b3tT4LZ"
      },
      "source": [
        "In this project, we position ourselves as a part of the Data Scientist Team at Google. Google has training course mainly focused on Data Science that everyone can sign up. We treated this training course also as a talent pool as it will be easier if we want to hire a data scientist in the future.\n",
        "\n",
        "It happened that we need to hire additional Data Scientist to do a big project. The Company wants to reduce the cost and time in the hiring process. So, the HR prefer to get the candidate from the talent pool that have already complete some courses. \n",
        "\n",
        "From the problem above, we decide to do some analysis and build a machine learning model to know which of these candidates are suit for the job and looking for a new employment in order to reduce the cost and time for HR to recruit them. Information related to demographics, education, experience are in hands from candidates signup and enrollment."
      ]
    },
    {
      "cell_type": "markdown",
      "metadata": {
        "id": "Nnb65mkqBbb3"
      },
      "source": [
        "# Hiring Process Scenario"
      ]
    },
    {
      "cell_type": "markdown",
      "metadata": {
        "id": "ZbXzNt4gKQe5"
      },
      "source": [
        "source: https://resources.workable.com/tutorial/faq-hiring-process#"
      ]
    },
    {
      "cell_type": "markdown",
      "metadata": {
        "id": "d2iRbOd0BdWB"
      },
      "source": [
        "The hiring process begins when a company identifies the need to fill a position and ends when a candidate accepts a job offer. The typical steps of the recruitment and selection process vary depending on the role and company. But, most hiring teams build their hiring process around these four stages:\n",
        "\n",
        "* Planning.\n",
        "* Attracting candidates.\n",
        "* Selecting candidates. \n",
        "* Offering the job. \n",
        "\n",
        "We will focused on selecting candidates.\n",
        "\n",
        "In this selecting candidate phase, recruiters will do these steps:\n",
        "* Review and post job ads.\n",
        "* Source candidates (e.g. social media recruiting.)\n",
        "* Take up administrative tasks (e.g. scheduling interviews.)\n",
        "* Conduct preliminary screenings (e.g. screening call.)\n",
        "* Close candidates (e.g. begin the job offer process.)\n",
        "\n",
        "Though these are typical recruiter responsibilities, a good recruiter takes their role a step further. They act as advisors to hiring managers, track metrics to improve the hiring process and “own” the candidate experience.\n",
        "\n",
        "A recent survey by the Society of Human Resource Management (SHRM) found that the average cost per hire is about $4,100. Cost per hire formula is:\n",
        "\n",
        "Cost per hire = Total recruitment cost / Total number of hires = Total internal cost + Total external cost / Total number of hires\n",
        "\n",
        "We then assume that the cost is from the employee only. So, we divide the cost to each steps in selecting candidate phase and time spend on each steps is one day. "
      ]
    },
    {
      "cell_type": "markdown",
      "metadata": {
        "id": "pRthQKxOT4La"
      },
      "source": [
        "# I.Problem Identification"
      ]
    },
    {
      "cell_type": "markdown",
      "metadata": {
        "id": "VPaqpqEfT4La"
      },
      "source": [
        "## 1. Problem Definition"
      ]
    },
    {
      "cell_type": "markdown",
      "metadata": {
        "id": "zDRFYe-1HbfA"
      },
      "source": [
        "The HR have been struggled to keep their cost balanced. From their perspective, this problem occurs especially when they are trying to hire people to work for the company. And they prove it with the data that the cost for hiring people is much higher if they conduct many interviews and tests. While the process is not be able to be changed, we should at least reduce the cost from reducing candidate who will be proceed to interviews and tests. Meanwile, reducing the candidate is not something that can be easily done. It needs time to process the candidate if they do it manually. It also prone to bias from the person who grade it. \n",
        "\n",
        "To address the problem and improve business process, this project needs a reliable autonomous system that can suggest:\n",
        "1. <b>Which candidate should the HR hire based on skills and experience, and openess to job change?</b>"
      ]
    },
    {
      "cell_type": "markdown",
      "metadata": {
        "id": "ZTqcVhwWT4La"
      },
      "source": [
        "## 2. Business Objectives"
      ]
    },
    {
      "cell_type": "markdown",
      "metadata": {
        "id": "vygaNYFgHjZU"
      },
      "source": [
        "The expected output of this project is a system that can provide list of candidate which should be hired by HR. With this model, <b>we could minimize the cost of hiring people and reduce time for selecting the candidate.</b>"
      ]
    },
    {
      "cell_type": "markdown",
      "metadata": {
        "id": "RM516KjxT4La"
      },
      "source": [
        "## 3. Data"
      ]
    },
    {
      "cell_type": "markdown",
      "metadata": {
        "id": "bRol460SF-XW"
      },
      "source": [
        "### Data Source"
      ]
    },
    {
      "cell_type": "markdown",
      "metadata": {
        "id": "N9M3zEbCF1ar"
      },
      "source": [
        "* <b>Data Source</b><br>\n",
        "The data was downloaded from Kaggle. All data is managed by account Möbius as the owner of the data.\n",
        "<br>\n",
        "<br>\n",
        "* <b>Data Access & Data Privacy</b><br>\n",
        "Open access to public"
      ]
    },
    {
      "cell_type": "markdown",
      "metadata": {
        "id": "y6F6DeouGACW"
      },
      "source": [
        "### Data Description"
      ]
    },
    {
      "cell_type": "markdown",
      "metadata": {
        "id": "-U2VqIZSGHKf"
      },
      "source": [
        "This dataset designed to understand the factors that lead a person to leave current job for HR researches too. By model(s) that uses the current credentials,demographics,experience data you will predict the probability of a candidate to look for a new job or will work for the company, as well as interpreting affected factors on employee decision.\n",
        "\n",
        "The whole data divided to train and test . Target isn't included in test but the test target values data file is in hands for related tasks. A sample submission correspond to enrollee_id of test set provided too with columns : enrollee _id , target\n",
        "\n",
        "<b>Number of records:</b>\n",
        "* Train data (aug_train.csv):\n",
        "    - Rows: 19158 rows\n",
        "    - Columns: 14 columns\n",
        "* Test data (aug_test.csv):\n",
        "    - Rows: 2129 rows\n",
        "    - Columns: 13 columns\n",
        "\n",
        "<b>Features:</b>\n",
        "* <b>enrollee_id:</b> Unique ID for candidate\n",
        "* <b>city:</b> City code\n",
        "* <b>city_development_index:</b> Developement index of the city (scaled)\n",
        "* <b>gender:</b> Gender of candidate\n",
        "* <b>relevent_experience:</b> Relevant experience of candidate\n",
        "* <b>enrolled_university:</b> Type of University course enrolled if any\n",
        "* <b>education_level:</b> Education level of candidate\n",
        "* <b>major_discipline:</b> Education major discipline of candidate\n",
        "* <b>experience:</b> Candidate total experience in years\n",
        "* <b>company_size:</b> No of employees in current employer's company\n",
        "* <b>company_type:</b> Type of current employer\n",
        "* <b>lastnewjob:</b> Difference in years between previous job and current job\n",
        "* <b>training_hours:</b> training hours completed\n",
        "* <b>target:</b> 0 – Not looking for job change, 1 – Looking for a job change"
      ]
    },
    {
      "cell_type": "markdown",
      "metadata": {
        "id": "bXLtHv-KT4La"
      },
      "source": [
        "## 4. Analytics Approach"
      ]
    },
    {
      "cell_type": "markdown",
      "metadata": {
        "id": "T7kuIDcbT4La"
      },
      "source": [
        "Since the target that we want to predict is only 0 and 1, this problem can be addressed with Supervised Learning, more Specifically Classification. We will use the training data to Classification Algorithms which then will tune some parameters to fit the model, and then hopefully it will be able to make good prediction on future instances."
      ]
    },
    {
      "cell_type": "markdown",
      "metadata": {
        "id": "OvqWGjKiT4Lb"
      },
      "source": [
        "### Risk\n",
        "There are possible risk that may be caused by wrong prediction from the ML model:"
      ]
    },
    {
      "cell_type": "markdown",
      "metadata": {
        "id": "PXkFE_kvT4Lb"
      },
      "source": [
        "### Performance Measure\n",
        "The performance measure to evaluate the ML model are Precision Score and Confusion Matrix"
      ]
    },
    {
      "cell_type": "markdown",
      "metadata": {
        "id": "GRuhBuwDT4Lb"
      },
      "source": [
        "## 5. Action"
      ]
    },
    {
      "cell_type": "markdown",
      "metadata": {
        "id": "B7tWxtNtIQWl"
      },
      "source": [
        "The HR department can approach candidate within the list to hire data scientist."
      ]
    },
    {
      "cell_type": "markdown",
      "metadata": {
        "id": "fAKBv9JKT4Lb"
      },
      "source": [
        "## 6. Value"
      ]
    },
    {
      "cell_type": "markdown",
      "metadata": {
        "id": "nOzyNh64InEo"
      },
      "source": [
        "The values created from the project are the improvement in hiring process and minimized cost and time during the hiring process."
      ]
    },
    {
      "cell_type": "markdown",
      "metadata": {
        "id": "195Bg5mZT4Lb"
      },
      "source": [
        "# II. Data Understanding & Data Preparation\n",
        "Please refer to : link"
      ]
    },
    {
      "cell_type": "markdown",
      "metadata": {
        "id": "mePm1bEyT4Lb"
      },
      "source": [
        "# III. Modeling & Evaluation\n",
        "Please refer to : link"
      ]
    },
    {
      "cell_type": "markdown",
      "metadata": {
        "id": "mFlnqJj2KAJ8"
      },
      "source": [
        "# IV. Cost Reduction"
      ]
    },
    {
      "cell_type": "markdown",
      "metadata": {
        "id": "rQppVD2CKFrP"
      },
      "source": [
        "If the average cost are $4,100 and we divided it into 5 steps: \n",
        "* Review and post job ads\n",
        "* Take up administrative tasks\n",
        "* Source candidates (compelling the candidate list and selection process)\n",
        "* Conduct preliminary screenings\n",
        "* Close candidates\n",
        "\n",
        "Then each steps would cost $820.\n",
        "\n",
        "After we implement the model, we definetly reduce the cost of sourcing the candidate for compelling the candidate list and selection. We could take half day to that step, then it would reduce cost from 820 to 410. So, the overall cost would be $3690. From the average cost to 3690, we reduce cost for 10%. The time itself if we take 5 days to do the 5 steps above, then we take out half day because of our machine learning, then we also take out 10% of the time in the hiring process.\n",
        "\n",
        "source: https://resources.workable.com/tutorial/faq-hiring-process#\n",
        "\n"
      ]
    },
    {
      "cell_type": "markdown",
      "metadata": {
        "id": "vD2AfIzuT4Lc"
      },
      "source": [
        "# V. Conclusion & Recommendation"
      ]
    },
    {
      "cell_type": "markdown",
      "metadata": {
        "id": "IDtlNPMWG-u3"
      },
      "source": [
        "### Conclusion"
      ]
    },
    {
      "cell_type": "markdown",
      "metadata": {
        "id": "J-ki42atT4Lc"
      },
      "source": [
        "From this project, we can conclude:\n",
        "The HR Department can shorter their process of hiring by using the model in the compeling and selection process of the candidate up to 10% and reduce cost per hire up to 10%."
      ]
    },
    {
      "cell_type": "markdown",
      "metadata": {
        "id": "jiPoinusHAn9"
      },
      "source": [
        "### Recommendation"
      ]
    },
    {
      "cell_type": "markdown",
      "metadata": {
        "id": "kKT3fCsmNcjp"
      },
      "source": [
        "The recommendations that can be made for further development are as follows:\n",
        "* We could encourage the training participant to fill more data to reduce missing value.\n",
        "* We pick the best candidate for data science skills based on training hours only, we can add more data, for example participant grade, to make sure we picked the best data science based on the grade and training hours.\n",
        "* If we interested in CDI and target, we can take data on factors in calculating CDI, also population data which contains data on employment and data on the average salary or minimum wage in the city to determine which factor that could drive candidate to change the job.\n",
        "* if we are interested in what factors affect a person to change job, then more data are needed such as salary data, company benefits, career paths, and others, in order to determine what factors are highly affected the person."
      ]
    }
  ],
  "metadata": {
    "colab": {
      "collapsed_sections": [],
      "name": "Background.ipynb",
      "provenance": []
    },
    "interpreter": {
      "hash": "0d89878c39c02ed44faae28197850e828275159266d11aee0c55a2338b4b18d7"
    },
    "kernelspec": {
      "display_name": "Python 3.8.8 64-bit ('base': conda)",
      "name": "python3"
    },
    "language_info": {
      "codemirror_mode": {
        "name": "ipython",
        "version": 3
      },
      "file_extension": ".py",
      "mimetype": "text/x-python",
      "name": "python",
      "nbconvert_exporter": "python",
      "pygments_lexer": "ipython3",
      "version": "3.8.8"
    },
    "orig_nbformat": 4
  },
  "nbformat": 4,
  "nbformat_minor": 0
}
